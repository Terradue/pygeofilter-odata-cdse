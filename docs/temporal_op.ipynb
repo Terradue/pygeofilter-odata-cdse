{
 "cells": [
  {
   "cell_type": "markdown",
   "metadata": {},
   "source": [
    "| Description                                                    | CQL2 Operator | Resulting OData Operator |\n",
    "|----------------------------------------------------------------|---------------|--------------------------|\n",
    "| The subject is a temporal entity that occurs after the object  | `t_after`     | `gt`                     |\n",
    "| The subject is a temporal entity that occurs before the object | `t_before`    | `lt`                     |\n",
    "| Beginning of a temporal entity.                                | `t_begins`    | `ge`                     |\n",
    "| End of a temporal entity.                                      | `t_ends`      | `le`                     |"
   ]
  },
  {
   "cell_type": "code",
   "execution_count": 1,
   "metadata": {},
   "outputs": [
    {
     "name": "stdout",
     "output_type": "stream",
     "text": [
      "ContentDate/Start gt 2023-02-01T00:00:00+00:00 and ContentDate/Start lt 2023-02-28T23:59:59+00:00\n"
     ]
    }
   ],
   "source": [
    "from pygeocdse.evaluator import to_cdse\n",
    "\n",
    "cql2_filter = {\n",
    "    \"op\": \"and\",\n",
    "    \"args\": [\n",
    "        {\n",
    "            \"op\": \"t_after\",\n",
    "            \"args\": [\n",
    "                {\"property\": \"ContentDate/Start\"},\n",
    "                {\"timestamp\": \"2023-02-01T00:00:00Z\"}\n",
    "            ],\n",
    "        },\n",
    "        {\n",
    "            \"op\": \"t_before\",\n",
    "            \"args\": [\n",
    "                {\"property\": \"ContentDate/Start\"},\n",
    "                {\"timestamp\": \"2023-02-28T23:59:59Z\"}\n",
    "            ],\n",
    "        },\n",
    "    ],\n",
    "}\n",
    "\n",
    "print(to_cdse(cql2_filter))"
   ]
  },
  {
   "cell_type": "markdown",
   "metadata": {},
   "source": [
    "Please take note that the ISO format for dates in OData are internally handled, so users can express dates in CQL2 supported formats.\n",
    "\n",
    "## Intervals\n",
    "\n",
    "Intervals are supported for a single property, they are limits inclusive by default, the `op` has to be accurately tuned, i.e."
   ]
  },
  {
   "cell_type": "code",
   "execution_count": 2,
   "metadata": {},
   "outputs": [
    {
     "name": "stdout",
     "output_type": "stream",
     "text": [
      "ContentDate/Start gt 2023-02-01T00:00:00+00:00 and ContentDate/Start le 2023-02-01T23:59:59+00:00 and ContentDate/End ge 2023-02-28T00:00:00+00:00 and ContentDate/End lt 2023-02-28T23:59:59+00:00\n"
     ]
    }
   ],
   "source": [
    "from pygeocdse.evaluator import to_cdse\n",
    "\n",
    "cql2_filter = {\n",
    "    \"op\": \"and\",\n",
    "    \"args\": [\n",
    "        {\n",
    "            \"op\": \"t_after\",\n",
    "            \"args\": [\n",
    "                {\"property\": \"ContentDate/Start\"},\n",
    "                {\"interval\": [\"2023-02-01T00:00:00Z\", \"2023-02-01T23:59:59Z\"]},\n",
    "            ],\n",
    "        },\n",
    "        {\n",
    "            \"op\": \"t_before\",\n",
    "            \"args\": [\n",
    "                {\"property\": \"ContentDate/End\"},\n",
    "                {\"interval\": [\"2023-02-28T00:00:00Z\", \"2023-02-28T23:59:59Z\"]}\n",
    "            ],\n",
    "        },\n",
    "    ]\n",
    "}\n",
    "\n",
    "print(to_cdse(cql2_filter))"
   ]
  },
  {
   "cell_type": "markdown",
   "metadata": {},
   "source": [
    "## Time deltas\n",
    "\n",
    "[ISO 8601 duration format](https://www.digi.com/resources/documentation/digidocs/90001488-13/reference/r_iso_8601_duration_format.htm) is supported inside Time intervals, the interpreter will take care of converting datetimes.\n",
    "\n",
    "Deltas are supported in both `end` parameter of the interval: "
   ]
  },
  {
   "cell_type": "code",
   "execution_count": 3,
   "metadata": {},
   "outputs": [
    {
     "name": "stdout",
     "output_type": "stream",
     "text": [
      "ContentDate/Start gt 2023-02-28T00:00:00+00:00 and ContentDate/Start le 2023-02-28T00:00:04+00:00\n"
     ]
    }
   ],
   "source": [
    "from pygeocdse.evaluator import to_cdse\n",
    "\n",
    "cql2_filter = {\n",
    "    \"op\": \"t_after\",\n",
    "    \"args\": [\n",
    "        {\"property\": \"ContentDate/Start\"},\n",
    "        {\"interval\": [\"2023-02-28T00:00:00Z\", \"PT4S\"]},\n",
    "    ],\n",
    "}\n",
    "\n",
    "print(to_cdse(cql2_filter))"
   ]
  },
  {
   "cell_type": "markdown",
   "metadata": {},
   "source": [
    "And in the `start` parameter of the interval:"
   ]
  },
  {
   "cell_type": "code",
   "execution_count": 4,
   "metadata": {},
   "outputs": [
    {
     "name": "stdout",
     "output_type": "stream",
     "text": [
      "ContentDate/Start gt 2023-02-27T23:59:56+00:00 and ContentDate/Start le 2023-02-28T00:00:00+00:00\n"
     ]
    }
   ],
   "source": [
    "from pygeocdse.evaluator import to_cdse\n",
    "\n",
    "cql2_filter = {\n",
    "    \"op\": \"t_after\",\n",
    "    \"args\": [\n",
    "        {\"property\": \"ContentDate/Start\"},\n",
    "        {\"interval\": [\"PT4S\", \"2023-02-28T00:00:00Z\"]},\n",
    "    ],\n",
    "}\n",
    "\n",
    "print(to_cdse(cql2_filter))"
   ]
  }
 ],
 "metadata": {
  "kernelspec": {
   "display_name": "pygeocdse",
   "language": "python",
   "name": "python3"
  },
  "language_info": {
   "codemirror_mode": {
    "name": "ipython",
    "version": 3
   },
   "file_extension": ".py",
   "mimetype": "text/x-python",
   "name": "python",
   "nbconvert_exporter": "python",
   "pygments_lexer": "ipython3",
   "version": "3.10.12"
  }
 },
 "nbformat": 4,
 "nbformat_minor": 2
}
