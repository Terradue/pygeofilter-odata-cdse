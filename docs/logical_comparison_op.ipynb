{
 "cells": [
  {
   "cell_type": "markdown",
   "metadata": {},
   "source": [
    "# Supported Comparison operators\n",
    "\n",
    "| Description           | CQL2 Operator(s) | Resulting OData Operator |\n",
    "|-----------------------|------------------|--------------------------|\n",
    "| Equal                 | `=`, `eq`        | `eq`                     |\n",
    "| Greater than          | `>`,`gt`         | `gt`                     |\n",
    "| Greater than or equal | `>=`,`gte`       | `ge`                     |\n",
    "| Less than             | `<`, `lt`        | `lt`                     |\n",
    "| Less than or equal    | `<=`, `lte`      | `le`                     |"
   ]
  },
  {
   "cell_type": "code",
   "execution_count": 28,
   "metadata": {},
   "outputs": [
    {
     "name": "stdout",
     "output_type": "stream",
     "text": [
      "Attributes/OData.CSC.DoubleAttribute/any(att:att/Name eq 'cloudCover' and att/OData.CSC.DoubleAttribute/Value eq 20)\n"
     ]
    }
   ],
   "source": [
    "from pygeocdse.evaluator import to_cdse\n",
    "\n",
    "cql2_filter = {\n",
    "    \"op\": \"=\",\n",
    "    \"args\": [\n",
    "        {\"property\": \"cloudCover\"},\n",
    "        20\n",
    "    ]\n",
    "}\n",
    "\n",
    "print(to_cdse(cql2_filter))"
   ]
  },
  {
   "cell_type": "code",
   "execution_count": 29,
   "metadata": {},
   "outputs": [
    {
     "name": "stdout",
     "output_type": "stream",
     "text": [
      "Attributes/OData.CSC.DoubleAttribute/any(att:att/Name eq 'cloudCover' and att/OData.CSC.DoubleAttribute/Value gt 20)\n"
     ]
    }
   ],
   "source": [
    "from pygeocdse.evaluator import to_cdse\n",
    "\n",
    "cql2_filter = {\n",
    "    \"op\": \">\",\n",
    "    \"args\": [\n",
    "        {\"property\": \"cloudCover\"},\n",
    "        20\n",
    "    ]\n",
    "}\n",
    "\n",
    "print(to_cdse(cql2_filter))"
   ]
  },
  {
   "cell_type": "code",
   "execution_count": 30,
   "metadata": {},
   "outputs": [
    {
     "name": "stdout",
     "output_type": "stream",
     "text": [
      "Attributes/OData.CSC.DoubleAttribute/any(att:att/Name eq 'cloudCover' and att/OData.CSC.DoubleAttribute/Value ge 20)\n"
     ]
    }
   ],
   "source": [
    "from pygeocdse.evaluator import to_cdse\n",
    "\n",
    "cql2_filter = {\n",
    "    \"op\": \">=\",\n",
    "    \"args\": [\n",
    "        {\"property\": \"cloudCover\"},\n",
    "        20\n",
    "    ]\n",
    "}\n",
    "\n",
    "print(to_cdse(cql2_filter))"
   ]
  },
  {
   "cell_type": "code",
   "execution_count": 31,
   "metadata": {},
   "outputs": [
    {
     "name": "stdout",
     "output_type": "stream",
     "text": [
      "Attributes/OData.CSC.DoubleAttribute/any(att:att/Name eq 'cloudCover' and att/OData.CSC.DoubleAttribute/Value lt 20)\n"
     ]
    }
   ],
   "source": [
    "from pygeocdse.evaluator import to_cdse\n",
    "\n",
    "cql2_filter = {\n",
    "    \"op\": \"<\",\n",
    "    \"args\": [\n",
    "        {\"property\": \"cloudCover\"},\n",
    "        20\n",
    "    ]\n",
    "}\n",
    "\n",
    "print(to_cdse(cql2_filter))"
   ]
  },
  {
   "cell_type": "code",
   "execution_count": 32,
   "metadata": {},
   "outputs": [
    {
     "name": "stdout",
     "output_type": "stream",
     "text": [
      "Attributes/OData.CSC.DoubleAttribute/any(att:att/Name eq 'cloudCover' and att/OData.CSC.DoubleAttribute/Value le 20)\n"
     ]
    }
   ],
   "source": [
    "from pygeocdse.evaluator import to_cdse\n",
    "\n",
    "cql2_filter = {\n",
    "    \"op\": \"<=\",\n",
    "    \"args\": [\n",
    "        {\"property\": \"cloudCover\"},\n",
    "        20\n",
    "    ]\n",
    "}\n",
    "\n",
    "print(to_cdse(cql2_filter))"
   ]
  },
  {
   "cell_type": "markdown",
   "metadata": {},
   "source": [
    "Please take note that `Collection/Name` is a reserved keyword"
   ]
  },
  {
   "cell_type": "code",
   "execution_count": 33,
   "metadata": {},
   "outputs": [
    {
     "name": "stdout",
     "output_type": "stream",
     "text": [
      "Collection/Name eq 'SENTINEL-2'\n"
     ]
    }
   ],
   "source": [
    "from pygeocdse.evaluator import to_cdse\n",
    "\n",
    "cql2_filter = {\n",
    "    \"op\": \"=\",\n",
    "    \"args\": [\n",
    "        {\"property\": \"Collection/Name\"},\n",
    "        \"SENTINEL-2\"\n",
    "    ]\n",
    "}\n",
    "\n",
    "print(to_cdse(cql2_filter))"
   ]
  },
  {
   "cell_type": "markdown",
   "metadata": {},
   "source": [
    "# Supported inclusion operators\n",
    "\n",
    "| Description           | CQL2 Operator(s) | Resulting OData Operator |\n",
    "|-----------------------|------------------|--------------------------|\n",
    "| Is a member of        | `in`             | `in`                     |"
   ]
  },
  {
   "cell_type": "code",
   "execution_count": 34,
   "metadata": {},
   "outputs": [
    {
     "name": "stdout",
     "output_type": "stream",
     "text": [
      "(Attributes/OData.CSC.StringAttribute/any(att:att/Name eq 'productType' and att/OData.CSC.StringAttribute/Value eq 'IW_GRHD_1S') or Attributes/OData.CSC.StringAttribute/any(att:att/Name eq 'productType' and att/OData.CSC.StringAttribute/Value eq 'IW_GRDH_1S') or Attributes/OData.CSC.StringAttribute/any(att:att/Name eq 'productType' and att/OData.CSC.StringAttribute/Value eq 'EW_GRDM_1S') or Attributes/OData.CSC.StringAttribute/any(att:att/Name eq 'productType' and att/OData.CSC.StringAttribute/Value eq 'EW_GRDH_1S') or Attributes/OData.CSC.StringAttribute/any(att:att/Name eq 'productType' and att/OData.CSC.StringAttribute/Value eq 'S1_GRDH_1S') or Attributes/OData.CSC.StringAttribute/any(att:att/Name eq 'productType' and att/OData.CSC.StringAttribute/Value eq 'S2_GRDH_1S') or Attributes/OData.CSC.StringAttribute/any(att:att/Name eq 'productType' and att/OData.CSC.StringAttribute/Value eq 'S3_GRDH_1S') or Attributes/OData.CSC.StringAttribute/any(att:att/Name eq 'productType' and att/OData.CSC.StringAttribute/Value eq 'S4_GRDH_1S') or Attributes/OData.CSC.StringAttribute/any(att:att/Name eq 'productType' and att/OData.CSC.StringAttribute/Value eq 'S5_GRDH_1S') or Attributes/OData.CSC.StringAttribute/any(att:att/Name eq 'productType' and att/OData.CSC.StringAttribute/Value eq 'S6_GRDH_1S'))\n"
     ]
    }
   ],
   "source": [
    "from pygeocdse.evaluator import to_cdse\n",
    "\n",
    "cql2_filter = {\n",
    "    \"op\": \"in\",\n",
    "    \"args\": [\n",
    "        {\"property\": \"productType\"},\n",
    "        [\n",
    "            \"IW_GRHD_1S\",\n",
    "            \"IW_GRDH_1S\",\n",
    "            \"EW_GRDM_1S\",\n",
    "            \"EW_GRDH_1S\",\n",
    "            \"S1_GRDH_1S\",\n",
    "            \"S2_GRDH_1S\",\n",
    "            \"S3_GRDH_1S\",\n",
    "            \"S4_GRDH_1S\",\n",
    "            \"S5_GRDH_1S\",\n",
    "            \"S6_GRDH_1S\"\n",
    "        ]\n",
    "    ]\n",
    "}\n",
    "\n",
    "print(to_cdse(cql2_filter))"
   ]
  },
  {
   "cell_type": "markdown",
   "metadata": {},
   "source": []
  }
 ],
 "metadata": {
  "kernelspec": {
   "display_name": "pygeocdse",
   "language": "python",
   "name": "python3"
  },
  "language_info": {
   "codemirror_mode": {
    "name": "ipython",
    "version": 3
   },
   "file_extension": ".py",
   "mimetype": "text/x-python",
   "name": "python",
   "nbconvert_exporter": "python",
   "pygments_lexer": "ipython3",
   "version": "3.10.12"
  }
 },
 "nbformat": 4,
 "nbformat_minor": 2
}
