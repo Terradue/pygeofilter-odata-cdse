{
 "cells": [
  {
   "cell_type": "markdown",
   "metadata": {},
   "source": [
    "# pygeofilter CDSE OData support for CQL2\n",
    "\n",
    "## Scope\n",
    "\n",
    "We aim to provide users a simpler [OData](https://www.odata.org/) Filtering experience by let them expressing a [$filter](https://docs.oasis-open.org/odata/odata/v4.01/odata-v4.01-part1-protocol.html#_Toc31358948) via [Common Query Language](https://www.ogc.org/publications/standard/cql2/) (also known as _CQL2_).\n",
    "\n",
    "## Target\n",
    "\n",
    "This library, written in Python, is developed to simplify System Integrators daily routines to interact with Geospatial catalogs, such as the [Copernicus Data Space Ecosystem](https://dataspace.copernicus.eu/).\n",
    "\n",
    "## Usage\n",
    "\n",
    "Once the library is installed, everything required are the following steps:"
   ]
  },
  {
   "cell_type": "code",
   "execution_count": null,
   "metadata": {
    "vscode": {
     "languageId": "plaintext"
    }
   },
   "outputs": [],
   "source": [
    "import json\n",
    "from pygeocdse.evaluator import http_invoke\n",
    "\n",
    "# define the OData catalog base URL\n",
    "\n",
    "base_url = \"https://catalogue.dataspace.copernicus.eu/odata/v1/Products\"\n",
    "\n",
    "# define the OData filter, according to CQL2 (JSON)\n",
    "\n",
    "cql2_filter = {\n",
    "    \"op\": \"and\",\n",
    "    \"args\": [\n",
    "        {\n",
    "            \"op\": \"eq\",\n",
    "            \"args\": [\n",
    "                {\"property\": \"Collection/Name\"},\n",
    "                \"SENTINEL-2\"\n",
    "            ]\n",
    "        },\n",
    "        {\n",
    "            \"op\": \"eq\",\n",
    "            \"args\": [\n",
    "                {\"property\": \"productType\"},\n",
    "                \"S2MSI1C\"\n",
    "            ]\n",
    "        },\n",
    "        {\n",
    "            \"op\": \"s_intersects\",\n",
    "            \"args\": [\n",
    "                {\"property\": \"geometry\"},\n",
    "                {\n",
    "                    \"type\": \"Polygon\",\n",
    "                    \"coordinates\": [\n",
    "                        [\n",
    "                            [-11, 35],\n",
    "                            [27.5, 35],\n",
    "                            [27.5, 60],\n",
    "                            [-11, 60],\n",
    "                            [-11, 35],\n",
    "                        ]\n",
    "                    ],\n",
    "                },\n",
    "            ],\n",
    "        }\n",
    "    ],\n",
    "}\n",
    "\n",
    "# Now query the OData Catalog via HTTP\n",
    "\n",
    "data = http_invoke(base_url, cql2_filter)\n",
    "\n",
    "# manipulate resulting data\n",
    "\n",
    "print(json.dumps(data, indent=2))"
   ]
  },
  {
   "cell_type": "markdown",
   "metadata": {},
   "source": [
    "## Disclaimer\n",
    "\n",
    "This is Work in Progress, only a limited subset of OData operators are supported for CDSE use cases only.\n",
    "\n",
    "Contributions are welcome and appreciated."
   ]
  }
 ],
 "metadata": {
  "language_info": {
   "name": "python"
  }
 },
 "nbformat": 4,
 "nbformat_minor": 2
}
