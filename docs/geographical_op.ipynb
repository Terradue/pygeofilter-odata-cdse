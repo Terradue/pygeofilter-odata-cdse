{
 "cells": [
  {
   "cell_type": "markdown",
   "metadata": {},
   "source": [
    "## Intersects\n",
    "\n",
    "`s_intersects` is, at the moment, the only Geographical supported operator, i.e."
   ]
  },
  {
   "cell_type": "code",
   "execution_count": 2,
   "metadata": {},
   "outputs": [
    {
     "name": "stdout",
     "output_type": "stream",
     "text": [
      "OData.CSC.Intersects(area=geography'SRID=4326;POLYGON ((12.655118166047592 47.44667197521409, 21.39065656328509 48.347694733853245, 28.334291357162826 41.877123516783655, 17.47086198383573 40.35854475076158, 12.655118166047592 47.44667197521409))')\n"
     ]
    }
   ],
   "source": [
    "from pygeocdse.evaluator import to_cdse\n",
    "\n",
    "cql2_filter = {\n",
    "    \"op\": \"s_intersects\",\n",
    "    \"args\": [\n",
    "        {\"property\": \"geometry\"},\n",
    "        {\n",
    "            \"type\": \"Polygon\",\n",
    "            \"coordinates\": [\n",
    "                [\n",
    "                    [12.655118166047592, 47.44667197521409],\n",
    "                    [21.39065656328509, 48.347694733853245],\n",
    "                    [28.334291357162826, 41.877123516783655],\n",
    "                    [17.47086198383573, 40.35854475076158],\n",
    "                    [12.655118166047592, 47.44667197521409],\n",
    "                ]\n",
    "            ],\n",
    "        },\n",
    "    ],\n",
    "}\n",
    "\n",
    "print(to_cdse(cql2_filter))"
   ]
  }
 ],
 "metadata": {
  "kernelspec": {
   "display_name": "pygeocdse",
   "language": "python",
   "name": "python3"
  },
  "language_info": {
   "codemirror_mode": {
    "name": "ipython",
    "version": 3
   },
   "file_extension": ".py",
   "mimetype": "text/x-python",
   "name": "python",
   "nbconvert_exporter": "python",
   "pygments_lexer": "ipython3",
   "version": "3.10.12"
  }
 },
 "nbformat": 4,
 "nbformat_minor": 2
}
